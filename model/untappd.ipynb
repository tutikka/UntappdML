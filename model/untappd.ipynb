{
 "cells": [
  {
   "cell_type": "markdown",
   "metadata": {},
   "source": [
    "# UntappdML\n",
    "\n",
    "Project to export personal beer history from Untappd and try to apply a machine learning model to predict if you like a new beer or not."
   ]
  },
  {
   "cell_type": "markdown",
   "metadata": {},
   "source": [
    "### import"
   ]
  },
  {
   "cell_type": "code",
   "execution_count": null,
   "metadata": {},
   "outputs": [],
   "source": [
    "import pandas as pd\n",
    "import seaborn as sns\n",
    "from matplotlib import pyplot as plt\n",
    "from matplotlib import style\n",
    "import re\n",
    "import numpy as np\n",
    "from sklearn.model_selection import train_test_split\n",
    "from sklearn.ensemble import RandomForestClassifier\n",
    "from sklearn.model_selection import cross_val_predict\n",
    "from sklearn.metrics import confusion_matrix\n",
    "from sklearn.metrics import precision_score, recall_score\n",
    "from sklearn.metrics import f1_score\n",
    "from sklearn.metrics import roc_curve\n",
    "from sklearn.metrics import roc_auc_score\n",
    "from joblib import dump, load"
   ]
  },
  {
   "cell_type": "markdown",
   "metadata": {},
   "source": [
    "### load personal untappd beer history\n",
    "\n",
    "You must be a supporter to be able to export beer history. Here we use the CSV format."
   ]
  },
  {
   "cell_type": "code",
   "execution_count": null,
   "metadata": {},
   "outputs": [],
   "source": [
    "history = pd.read_csv(\"untappd.csv\")"
   ]
  },
  {
   "cell_type": "code",
   "execution_count": null,
   "metadata": {},
   "outputs": [],
   "source": [
    "history.head(3)"
   ]
  },
  {
   "cell_type": "markdown",
   "metadata": {},
   "source": [
    "### drop unwanted columns\n",
    "\n",
    "Ignore columns which won't make sense in the prediction."
   ]
  },
  {
   "cell_type": "code",
   "execution_count": null,
   "metadata": {},
   "outputs": [],
   "source": [
    "history.columns"
   ]
  },
  {
   "cell_type": "code",
   "execution_count": null,
   "metadata": {},
   "outputs": [],
   "source": [
    "history = history[[\n",
    "    \"beer_type\",\n",
    "    \"beer_abv\",\n",
    "    \"beer_ibu\",\n",
    "    \"rating_score\",\n",
    "    \"brewery_country\",\n",
    "    \"global_rating_score\"\n",
    "]]"
   ]
  },
  {
   "cell_type": "code",
   "execution_count": null,
   "metadata": {},
   "outputs": [],
   "source": [
    "history.head(3)"
   ]
  },
  {
   "cell_type": "markdown",
   "metadata": {},
   "source": [
    "### feature: beer type"
   ]
  },
  {
   "cell_type": "code",
   "execution_count": null,
   "metadata": {},
   "outputs": [],
   "source": [
    "history[[\"beer_type\"]].value_counts()"
   ]
  },
  {
   "cell_type": "code",
   "execution_count": null,
   "metadata": {},
   "outputs": [],
   "source": [
    "history.loc[history.beer_type.str.contains(\"ipa\", flags=re.IGNORECASE), \"beer_type\"] = \"0\"\n",
    "history.loc[history.beer_type.str.contains(\"lager\", flags=re.IGNORECASE)| history.beer_type.str.contains(\"pilsner\", flags=re.IGNORECASE), \"beer_type\"] = \"1\"\n",
    "history.loc[history.beer_type.str.contains(\"stout\", flags=re.IGNORECASE), \"beer_type\"] = \"2\"\n",
    "history.loc[history.beer_type.str.contains(\"pale ale\", flags=re.IGNORECASE), \"beer_type\"] = \"3\"\n",
    "history.loc[history.beer_type.str.contains(\"wheat\", flags=re.IGNORECASE) | history.beer_type.str.contains(\"hefe\", flags=re.IGNORECASE) | history.beer_type.str.contains(\"weizen\", flags=re.IGNORECASE), \"beer_type\"] = \"4\"\n",
    "history.loc[history.beer_type.str.contains(\"porter\", flags=re.IGNORECASE), \"beer_type\"] = \"5\"\n",
    "history.loc[history.beer_type.str.contains(\"sour\", flags=re.IGNORECASE), \"beer_type\"] = \"6\"\n",
    "history.loc[history.beer_type.str.contains(\"fruit\", flags=re.IGNORECASE), \"beer_type\"] = \"7\"\n",
    "history.loc[~history.beer_type.str.contains(\"0|1|2|3|4|5|6|7\"), \"beer_type\"] = \"8\"\n",
    "history[\"beer_type\"] = history[\"beer_type\"].astype(int)"
   ]
  },
  {
   "cell_type": "code",
   "execution_count": null,
   "metadata": {},
   "outputs": [],
   "source": [
    "sns.histplot(data=history, x=\"beer_type\")"
   ]
  },
  {
   "cell_type": "markdown",
   "metadata": {},
   "source": [
    "### feature: beer abv"
   ]
  },
  {
   "cell_type": "code",
   "execution_count": null,
   "metadata": {},
   "outputs": [],
   "source": [
    "sns.histplot(data=history, x=\"beer_abv\", bins=20)"
   ]
  },
  {
   "cell_type": "code",
   "execution_count": null,
   "metadata": {},
   "outputs": [],
   "source": [
    "history.loc[history[\"beer_abv\"] <= 4.5, \"beer_abv\"] = 0\n",
    "history.loc[(history[\"beer_abv\"] > 4.5) & (history[\"beer_abv\"] <= 5), \"beer_abv\"] = 1\n",
    "history.loc[(history[\"beer_abv\"] > 5) & (history[\"beer_abv\"] <= 5.5), \"beer_abv\"] = 2\n",
    "history.loc[(history[\"beer_abv\"] > 5.5) & (history[\"beer_abv\"] <= 6), \"beer_abv\"] = 3\n",
    "history.loc[(history[\"beer_abv\"] > 6) & (history[\"beer_abv\"] <= 7), \"beer_abv\"] = 4\n",
    "history.loc[(history[\"beer_abv\"] > 7) & (history[\"beer_abv\"] <= 8), \"beer_abv\"] = 5\n",
    "history.loc[history[\"beer_abv\"] > 8, \"beer_abv\"] = 6\n",
    "history[\"beer_abv\"] = history[\"beer_abv\"].astype(int)"
   ]
  },
  {
   "cell_type": "code",
   "execution_count": null,
   "metadata": {},
   "outputs": [],
   "source": [
    "sns.histplot(data=history, x=\"beer_abv\")"
   ]
  },
  {
   "cell_type": "markdown",
   "metadata": {},
   "source": [
    "### feature: beer ibu"
   ]
  },
  {
   "cell_type": "code",
   "execution_count": null,
   "metadata": {},
   "outputs": [],
   "source": [
    "sns.histplot(data=history, x=\"beer_ibu\", bins=40)"
   ]
  },
  {
   "cell_type": "code",
   "execution_count": null,
   "metadata": {},
   "outputs": [],
   "source": [
    "history.loc[history[\"beer_ibu\"] == 0, \"beer_ibu\"] = 0\n",
    "history.loc[(history[\"beer_ibu\"] > 0) & (history[\"beer_ibu\"] <= 20), \"beer_ibu\"] = 1\n",
    "history.loc[(history[\"beer_ibu\"] > 20) & (history[\"beer_ibu\"] <= 30), \"beer_ibu\"] = 2\n",
    "history.loc[(history[\"beer_ibu\"] > 30) & (history[\"beer_ibu\"] <= 40), \"beer_ibu\"] = 3\n",
    "history.loc[(history[\"beer_ibu\"] > 40) & (history[\"beer_ibu\"] <= 60), \"beer_ibu\"] = 4\n",
    "history.loc[(history[\"beer_ibu\"] > 60) & (history[\"beer_ibu\"] <= 80), \"beer_ibu\"] = 5\n",
    "history.loc[history[\"beer_ibu\"] > 80, \"beer_ibu\"] = 6\n",
    "history[\"beer_ibu\"] = history[\"beer_ibu\"].astype(int)"
   ]
  },
  {
   "cell_type": "code",
   "execution_count": null,
   "metadata": {},
   "outputs": [],
   "source": [
    "sns.histplot(data=history, x=\"beer_ibu\")"
   ]
  },
  {
   "cell_type": "markdown",
   "metadata": {},
   "source": [
    "### feature: brewery country"
   ]
  },
  {
   "cell_type": "code",
   "execution_count": null,
   "metadata": {},
   "outputs": [],
   "source": [
    "history[[\"brewery_country\"]].value_counts()"
   ]
  },
  {
   "cell_type": "code",
   "execution_count": null,
   "metadata": {},
   "outputs": [],
   "source": [
    "history.loc[history.brewery_country.str.contains(\"united states|canada\", flags=re.IGNORECASE), \"brewery_country\"] = \"0\"\n",
    "history.loc[history.brewery_country.str.contains(\"scotland|united kingdom|wales\", flags=re.IGNORECASE), \"brewery_country\"] = \"1\"\n",
    "history.loc[history.brewery_country.str.contains(\"germany|austria\", flags=re.IGNORECASE), \"brewery_country\"] = \"2\"\n",
    "history.loc[history.brewery_country.str.contains(\"finland|sweden|norway|denmark|iceland\", flags=re.IGNORECASE), \"brewery_country\"] = \"3\"\n",
    "history.loc[history.brewery_country.str.contains(\"belgium|france|netherlands\", flags=re.IGNORECASE), \"brewery_country\"] = \"4\"\n",
    "history.loc[history.brewery_country.str.contains(\"czech republic|slovakia\", flags=re.IGNORECASE), \"brewery_country\"] = \"5\"\n",
    "history.loc[~history.brewery_country.str.contains(\"0|1|2|3|4|5\"), \"brewery_country\"] = \"6\"\n",
    "history[\"brewery_country\"] = history[\"brewery_country\"].astype(int)"
   ]
  },
  {
   "cell_type": "code",
   "execution_count": null,
   "metadata": {},
   "outputs": [],
   "source": [
    "sns.histplot(data=history, x=\"brewery_country\")"
   ]
  },
  {
   "cell_type": "markdown",
   "metadata": {},
   "source": [
    "### drop nulls"
   ]
  },
  {
   "cell_type": "code",
   "execution_count": null,
   "metadata": {},
   "outputs": [],
   "source": [
    "history = history.dropna()"
   ]
  },
  {
   "cell_type": "markdown",
   "metadata": {},
   "source": [
    "### label: rating score\n",
    "\n",
    "This is what we want to predict. Take the mean of all personal ratings, and apply a label of \"like\" if above or equal to the mean, and \"not like\" if below."
   ]
  },
  {
   "cell_type": "code",
   "execution_count": null,
   "metadata": {},
   "outputs": [],
   "source": [
    "m = history[\"rating_score\"].mean(axis=0)"
   ]
  },
  {
   "cell_type": "code",
   "execution_count": null,
   "metadata": {},
   "outputs": [],
   "source": [
    "m"
   ]
  },
  {
   "cell_type": "code",
   "execution_count": null,
   "metadata": {},
   "outputs": [],
   "source": [
    "history.loc[history[\"rating_score\"] < m, \"rating_score\"] = 0\n",
    "history.loc[history[\"rating_score\"] >= m, \"rating_score\"] = 1\n",
    "history[\"rating_score\"] = history[\"rating_score\"].astype(int)"
   ]
  },
  {
   "cell_type": "code",
   "execution_count": null,
   "metadata": {},
   "outputs": [],
   "source": [
    "sns.histplot(data=history, x=\"rating_score\", bins=2)"
   ]
  },
  {
   "cell_type": "markdown",
   "metadata": {},
   "source": [
    "### train/test split\n",
    "\n",
    "Split the entire history into a traing and testing data set."
   ]
  },
  {
   "cell_type": "code",
   "execution_count": null,
   "metadata": {},
   "outputs": [],
   "source": [
    "x = history.drop(\"rating_score\", axis=1)\n",
    "y = history[[\"rating_score\"]]\n",
    "x_train, x_test, y_train, y_test = train_test_split(x, y, test_size=0.2, random_state=42)"
   ]
  },
  {
   "cell_type": "markdown",
   "metadata": {},
   "source": [
    "### random forest"
   ]
  },
  {
   "cell_type": "code",
   "execution_count": null,
   "metadata": {},
   "outputs": [],
   "source": [
    "random_forest = RandomForestClassifier(n_estimators=100)\n",
    "random_forest.fit(x_train, y_train)"
   ]
  },
  {
   "cell_type": "code",
   "execution_count": null,
   "metadata": {},
   "outputs": [],
   "source": [
    "y_pred = random_forest.predict(x_test)"
   ]
  },
  {
   "cell_type": "code",
   "execution_count": null,
   "metadata": {},
   "outputs": [],
   "source": [
    "random_forest.score(x_train, y_train)\n",
    "acc_random_forest = round(random_forest.score(x_train, y_train) * 100, 2)"
   ]
  },
  {
   "cell_type": "code",
   "execution_count": null,
   "metadata": {},
   "outputs": [],
   "source": [
    "acc_random_forest"
   ]
  },
  {
   "cell_type": "markdown",
   "metadata": {},
   "source": [
    "### feature importance"
   ]
  },
  {
   "cell_type": "code",
   "execution_count": null,
   "metadata": {},
   "outputs": [],
   "source": [
    "importances = pd.DataFrame({\"feature\": x_train.columns, \"importance\": np.round(random_forest.feature_importances_, 3)})\n",
    "importances = importances.sort_values(\"importance\", ascending=False).set_index(\"feature\")\n",
    "importances.head(15)"
   ]
  },
  {
   "cell_type": "code",
   "execution_count": null,
   "metadata": {},
   "outputs": [],
   "source": [
    "importances.plot.bar()"
   ]
  },
  {
   "cell_type": "markdown",
   "metadata": {},
   "source": [
    "### precision and recall"
   ]
  },
  {
   "cell_type": "code",
   "execution_count": null,
   "metadata": {},
   "outputs": [],
   "source": [
    "predictions = cross_val_predict(random_forest, x_train, y_train, cv=3)\n",
    "confusion_matrix(y_train, predictions)"
   ]
  },
  {
   "cell_type": "code",
   "execution_count": null,
   "metadata": {},
   "outputs": [],
   "source": [
    "print(\"Precision:\", precision_score(y_train, predictions))\n",
    "print(\"Recall:\",recall_score(y_train, predictions))"
   ]
  },
  {
   "cell_type": "markdown",
   "metadata": {},
   "source": [
    "### f1-score"
   ]
  },
  {
   "cell_type": "code",
   "execution_count": null,
   "metadata": {},
   "outputs": [],
   "source": [
    "f1_score(y_train, predictions)"
   ]
  },
  {
   "cell_type": "markdown",
   "metadata": {},
   "source": [
    "### persist model"
   ]
  },
  {
   "cell_type": "code",
   "execution_count": null,
   "metadata": {},
   "outputs": [],
   "source": [
    "dump(random_forest, \"random_forest.joblib\")"
   ]
  },
  {
   "cell_type": "code",
   "execution_count": null,
   "metadata": {},
   "outputs": [],
   "source": []
  }
 ],
 "metadata": {
  "kernelspec": {
   "display_name": "Python 3",
   "language": "python",
   "name": "python3"
  },
  "language_info": {
   "codemirror_mode": {
    "name": "ipython",
    "version": 3
   },
   "file_extension": ".py",
   "mimetype": "text/x-python",
   "name": "python",
   "nbconvert_exporter": "python",
   "pygments_lexer": "ipython3",
   "version": "3.8.5"
  }
 },
 "nbformat": 4,
 "nbformat_minor": 4
}
