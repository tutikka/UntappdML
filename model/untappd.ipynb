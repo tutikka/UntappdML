{
 "cells": [
  {
   "cell_type": "markdown",
   "metadata": {},
   "source": [
    "# UntappdML\n",
    "\n",
    "Project to export personal beer history from Untappd and try to apply a machine learning model to predict if you like a new beer or not."
   ]
  },
  {
   "cell_type": "markdown",
   "metadata": {},
   "source": [
    "### import"
   ]
  },
  {
   "cell_type": "code",
   "execution_count": 57,
   "metadata": {},
   "outputs": [],
   "source": [
    "import pandas as pd\n",
    "import seaborn as sns\n",
    "from matplotlib import pyplot as plt\n",
    "from matplotlib import style\n",
    "import re\n",
    "import numpy as np\n",
    "from sklearn.model_selection import train_test_split\n",
    "from sklearn.ensemble import RandomForestClassifier\n",
    "from sklearn.model_selection import cross_val_predict\n",
    "from sklearn.metrics import confusion_matrix\n",
    "from sklearn.metrics import precision_score, recall_score\n",
    "from sklearn.metrics import f1_score\n",
    "from sklearn.metrics import roc_curve\n",
    "from sklearn.metrics import roc_auc_score\n",
    "from joblib import dump, load"
   ]
  },
  {
   "cell_type": "markdown",
   "metadata": {},
   "source": [
    "### load personal untappd beer history\n",
    "\n",
    "You must be a supporter to be able to export beer history. Here we use the CSV format."
   ]
  },
  {
   "cell_type": "code",
   "execution_count": 58,
   "metadata": {},
   "outputs": [],
   "source": [
    "history = pd.read_csv(\"untappd.csv\")"
   ]
  },
  {
   "cell_type": "code",
   "execution_count": 59,
   "metadata": {},
   "outputs": [
    {
     "data": {
      "text/html": [
       "<div>\n",
       "<style scoped>\n",
       "    .dataframe tbody tr th:only-of-type {\n",
       "        vertical-align: middle;\n",
       "    }\n",
       "\n",
       "    .dataframe tbody tr th {\n",
       "        vertical-align: top;\n",
       "    }\n",
       "\n",
       "    .dataframe thead th {\n",
       "        text-align: right;\n",
       "    }\n",
       "</style>\n",
       "<table border=\"1\" class=\"dataframe\">\n",
       "  <thead>\n",
       "    <tr style=\"text-align: right;\">\n",
       "      <th></th>\n",
       "      <th>beer_name</th>\n",
       "      <th>brewery_name</th>\n",
       "      <th>beer_type</th>\n",
       "      <th>beer_abv</th>\n",
       "      <th>beer_ibu</th>\n",
       "      <th>comment</th>\n",
       "      <th>venue_name</th>\n",
       "      <th>venue_city</th>\n",
       "      <th>venue_state</th>\n",
       "      <th>venue_country</th>\n",
       "      <th>...</th>\n",
       "      <th>serving_type</th>\n",
       "      <th>checkin_id</th>\n",
       "      <th>bid</th>\n",
       "      <th>brewery_id</th>\n",
       "      <th>photo_url</th>\n",
       "      <th>global_rating_score</th>\n",
       "      <th>global_weighted_rating_score</th>\n",
       "      <th>tagged_friends</th>\n",
       "      <th>total_toasts</th>\n",
       "      <th>total_comments</th>\n",
       "    </tr>\n",
       "  </thead>\n",
       "  <tbody>\n",
       "    <tr>\n",
       "      <th>0</th>\n",
       "      <td>Karhu III</td>\n",
       "      <td>Sinebrychoff</td>\n",
       "      <td>Lager - Pale</td>\n",
       "      <td>4.6</td>\n",
       "      <td>16</td>\n",
       "      <td>NaN</td>\n",
       "      <td>Espoo</td>\n",
       "      <td>NaN</td>\n",
       "      <td>Southern Finland</td>\n",
       "      <td>Suomi</td>\n",
       "      <td>...</td>\n",
       "      <td>NaN</td>\n",
       "      <td>216046681</td>\n",
       "      <td>39540</td>\n",
       "      <td>961</td>\n",
       "      <td>NaN</td>\n",
       "      <td>2.79</td>\n",
       "      <td>2.80</td>\n",
       "      <td>NaN</td>\n",
       "      <td>0</td>\n",
       "      <td>0</td>\n",
       "    </tr>\n",
       "    <tr>\n",
       "      <th>1</th>\n",
       "      <td>Libertine Black Ale</td>\n",
       "      <td>BrewDog</td>\n",
       "      <td>IPA - Black / Cascadian Dark Ale</td>\n",
       "      <td>7.2</td>\n",
       "      <td>65</td>\n",
       "      <td>NaN</td>\n",
       "      <td>Espoo</td>\n",
       "      <td>NaN</td>\n",
       "      <td>Southern Finland</td>\n",
       "      <td>Suomi</td>\n",
       "      <td>...</td>\n",
       "      <td>NaN</td>\n",
       "      <td>216049913</td>\n",
       "      <td>158573</td>\n",
       "      <td>241</td>\n",
       "      <td>https://untappd.s3.amazonaws.com/photo/2015_08...</td>\n",
       "      <td>3.80</td>\n",
       "      <td>3.80</td>\n",
       "      <td>NaN</td>\n",
       "      <td>0</td>\n",
       "      <td>0</td>\n",
       "    </tr>\n",
       "    <tr>\n",
       "      <th>2</th>\n",
       "      <td>Punk IPA</td>\n",
       "      <td>BrewDog</td>\n",
       "      <td>IPA - American</td>\n",
       "      <td>5.2</td>\n",
       "      <td>35</td>\n",
       "      <td>NaN</td>\n",
       "      <td>Espoo</td>\n",
       "      <td>NaN</td>\n",
       "      <td>Southern Finland</td>\n",
       "      <td>Suomi</td>\n",
       "      <td>...</td>\n",
       "      <td>NaN</td>\n",
       "      <td>216256060</td>\n",
       "      <td>5702</td>\n",
       "      <td>241</td>\n",
       "      <td>NaN</td>\n",
       "      <td>3.75</td>\n",
       "      <td>3.75</td>\n",
       "      <td>NaN</td>\n",
       "      <td>0</td>\n",
       "      <td>0</td>\n",
       "    </tr>\n",
       "  </tbody>\n",
       "</table>\n",
       "<p>3 rows × 32 columns</p>\n",
       "</div>"
      ],
      "text/plain": [
       "             beer_name  brewery_name                         beer_type  \\\n",
       "0            Karhu III  Sinebrychoff                      Lager - Pale   \n",
       "1  Libertine Black Ale       BrewDog  IPA - Black / Cascadian Dark Ale   \n",
       "2             Punk IPA       BrewDog                    IPA - American   \n",
       "\n",
       "   beer_abv  beer_ibu comment venue_name venue_city       venue_state  \\\n",
       "0       4.6        16     NaN      Espoo        NaN  Southern Finland   \n",
       "1       7.2        65     NaN      Espoo        NaN  Southern Finland   \n",
       "2       5.2        35     NaN      Espoo        NaN  Southern Finland   \n",
       "\n",
       "  venue_country  ...  serving_type  checkin_id     bid brewery_id  \\\n",
       "0         Suomi  ...           NaN   216046681   39540        961   \n",
       "1         Suomi  ...           NaN   216049913  158573        241   \n",
       "2         Suomi  ...           NaN   216256060    5702        241   \n",
       "\n",
       "                                           photo_url global_rating_score  \\\n",
       "0                                                NaN                2.79   \n",
       "1  https://untappd.s3.amazonaws.com/photo/2015_08...                3.80   \n",
       "2                                                NaN                3.75   \n",
       "\n",
       "  global_weighted_rating_score tagged_friends total_toasts total_comments  \n",
       "0                         2.80            NaN            0              0  \n",
       "1                         3.80            NaN            0              0  \n",
       "2                         3.75            NaN            0              0  \n",
       "\n",
       "[3 rows x 32 columns]"
      ]
     },
     "execution_count": 59,
     "metadata": {},
     "output_type": "execute_result"
    }
   ],
   "source": [
    "history.head(3)"
   ]
  },
  {
   "cell_type": "markdown",
   "metadata": {},
   "source": [
    "### drop unwanted columns\n",
    "\n",
    "Ignore columns which won't make sense in the prediction."
   ]
  },
  {
   "cell_type": "code",
   "execution_count": 60,
   "metadata": {},
   "outputs": [
    {
     "data": {
      "text/plain": [
       "Index(['beer_name', 'brewery_name', 'beer_type', 'beer_abv', 'beer_ibu',\n",
       "       'comment', 'venue_name', 'venue_city', 'venue_state', 'venue_country',\n",
       "       'venue_lat', 'venue_lng', 'rating_score', 'created_at', 'checkin_url',\n",
       "       'beer_url', 'brewery_url', 'brewery_country', 'brewery_city',\n",
       "       'brewery_state', 'flavor_profiles', 'purchase_venue', 'serving_type',\n",
       "       'checkin_id', 'bid', 'brewery_id', 'photo_url', 'global_rating_score',\n",
       "       'global_weighted_rating_score', 'tagged_friends', 'total_toasts',\n",
       "       'total_comments'],\n",
       "      dtype='object')"
      ]
     },
     "execution_count": 60,
     "metadata": {},
     "output_type": "execute_result"
    }
   ],
   "source": [
    "history.columns"
   ]
  },
  {
   "cell_type": "code",
   "execution_count": 61,
   "metadata": {},
   "outputs": [],
   "source": [
    "history = history[[\n",
    "    \"beer_type\",\n",
    "    \"beer_abv\",\n",
    "    \"beer_ibu\",\n",
    "    \"rating_score\",\n",
    "    \"brewery_country\",\n",
    "    \"global_rating_score\"\n",
    "]]"
   ]
  },
  {
   "cell_type": "code",
   "execution_count": 62,
   "metadata": {},
   "outputs": [
    {
     "data": {
      "text/html": [
       "<div>\n",
       "<style scoped>\n",
       "    .dataframe tbody tr th:only-of-type {\n",
       "        vertical-align: middle;\n",
       "    }\n",
       "\n",
       "    .dataframe tbody tr th {\n",
       "        vertical-align: top;\n",
       "    }\n",
       "\n",
       "    .dataframe thead th {\n",
       "        text-align: right;\n",
       "    }\n",
       "</style>\n",
       "<table border=\"1\" class=\"dataframe\">\n",
       "  <thead>\n",
       "    <tr style=\"text-align: right;\">\n",
       "      <th></th>\n",
       "      <th>beer_type</th>\n",
       "      <th>beer_abv</th>\n",
       "      <th>beer_ibu</th>\n",
       "      <th>rating_score</th>\n",
       "      <th>brewery_country</th>\n",
       "      <th>global_rating_score</th>\n",
       "    </tr>\n",
       "  </thead>\n",
       "  <tbody>\n",
       "    <tr>\n",
       "      <th>0</th>\n",
       "      <td>Lager - Pale</td>\n",
       "      <td>4.6</td>\n",
       "      <td>16</td>\n",
       "      <td>2.0</td>\n",
       "      <td>Finland</td>\n",
       "      <td>2.79</td>\n",
       "    </tr>\n",
       "    <tr>\n",
       "      <th>1</th>\n",
       "      <td>IPA - Black / Cascadian Dark Ale</td>\n",
       "      <td>7.2</td>\n",
       "      <td>65</td>\n",
       "      <td>4.5</td>\n",
       "      <td>Scotland</td>\n",
       "      <td>3.80</td>\n",
       "    </tr>\n",
       "    <tr>\n",
       "      <th>2</th>\n",
       "      <td>IPA - American</td>\n",
       "      <td>5.2</td>\n",
       "      <td>35</td>\n",
       "      <td>4.0</td>\n",
       "      <td>Scotland</td>\n",
       "      <td>3.75</td>\n",
       "    </tr>\n",
       "  </tbody>\n",
       "</table>\n",
       "</div>"
      ],
      "text/plain": [
       "                          beer_type  beer_abv  beer_ibu  rating_score  \\\n",
       "0                      Lager - Pale       4.6        16           2.0   \n",
       "1  IPA - Black / Cascadian Dark Ale       7.2        65           4.5   \n",
       "2                    IPA - American       5.2        35           4.0   \n",
       "\n",
       "  brewery_country  global_rating_score  \n",
       "0         Finland                 2.79  \n",
       "1        Scotland                 3.80  \n",
       "2        Scotland                 3.75  "
      ]
     },
     "execution_count": 62,
     "metadata": {},
     "output_type": "execute_result"
    }
   ],
   "source": [
    "history.head(3)"
   ]
  },
  {
   "cell_type": "markdown",
   "metadata": {},
   "source": [
    "### feature: beer type"
   ]
  },
  {
   "cell_type": "code",
   "execution_count": 63,
   "metadata": {},
   "outputs": [
    {
     "data": {
      "text/plain": [
       "beer_type                        \n",
       "IPA - American                       301\n",
       "Pale Ale - American                  148\n",
       "IPA - Imperial / Double              105\n",
       "IPA - New England                     84\n",
       "IPA - Session / India Session Ale     82\n",
       "                                    ... \n",
       "Farmhouse Ale - Bière de Garde         1\n",
       "Specialty Grain                        1\n",
       "English Mild Ale                       1\n",
       "Cream Ale                              1\n",
       "Australian Sparkling Ale               1\n",
       "Length: 164, dtype: int64"
      ]
     },
     "execution_count": 63,
     "metadata": {},
     "output_type": "execute_result"
    }
   ],
   "source": [
    "history[[\"beer_type\"]].value_counts()"
   ]
  },
  {
   "cell_type": "code",
   "execution_count": 64,
   "metadata": {},
   "outputs": [],
   "source": [
    "history.loc[history.beer_type.str.contains(\"ipa\", flags=re.IGNORECASE), \"beer_type\"] = \"0\"\n",
    "history.loc[history.beer_type.str.contains(\"lager\", flags=re.IGNORECASE)| history.beer_type.str.contains(\"pilsner\", flags=re.IGNORECASE), \"beer_type\"] = \"1\"\n",
    "history.loc[history.beer_type.str.contains(\"stout\", flags=re.IGNORECASE), \"beer_type\"] = \"2\"\n",
    "history.loc[history.beer_type.str.contains(\"pale ale\", flags=re.IGNORECASE), \"beer_type\"] = \"3\"\n",
    "history.loc[history.beer_type.str.contains(\"wheat\", flags=re.IGNORECASE) | history.beer_type.str.contains(\"hefe\", flags=re.IGNORECASE) | history.beer_type.str.contains(\"weizen\", flags=re.IGNORECASE), \"beer_type\"] = \"4\"\n",
    "history.loc[history.beer_type.str.contains(\"porter\", flags=re.IGNORECASE), \"beer_type\"] = \"5\"\n",
    "history.loc[history.beer_type.str.contains(\"sour\", flags=re.IGNORECASE), \"beer_type\"] = \"6\"\n",
    "history.loc[history.beer_type.str.contains(\"fruit\", flags=re.IGNORECASE), \"beer_type\"] = \"7\"\n",
    "history.loc[~history.beer_type.str.contains(\"0|1|2|3|4|5|6|7\"), \"beer_type\"] = \"8\"\n",
    "history[\"beer_type\"] = history[\"beer_type\"].astype(int)"
   ]
  },
  {
   "cell_type": "code",
   "execution_count": 65,
   "metadata": {},
   "outputs": [
    {
     "data": {
      "text/plain": [
       "<AxesSubplot:xlabel='beer_type', ylabel='Count'>"
      ]
     },
     "execution_count": 65,
     "metadata": {},
     "output_type": "execute_result"
    },
    {
     "data": {
      "image/png": "[encoded data removed]",
      "text/plain": [
       "<Figure size 432x288 with 1 Axes>"
      ]
     },
     "metadata": {
      "needs_background": "light"
     },
     "output_type": "display_data"
    }
   ],
   "source": [
    "sns.histplot(data=history, x=\"beer_type\")"
   ]
  },
  {
   "cell_type": "markdown",
   "metadata": {},
   "source": [
    "### feature: beer abv"
   ]
  },
  {
   "cell_type": "code",
   "execution_count": 66,
   "metadata": {},
   "outputs": [
    {
     "data": {
      "text/plain": [
       "<AxesSubplot:xlabel='beer_abv', ylabel='Count'>"
      ]
     },
     "execution_count": 66,
     "metadata": {},
     "output_type": "execute_result"
    },
    {
     "data": {
      "image/png": "[encoded data removed]",
      "text/plain": [
       "<Figure size 432x288 with 1 Axes>"
      ]
     },
     "metadata": {
      "needs_background": "light"
     },
     "output_type": "display_data"
    }
   ],
   "source": [
    "sns.histplot(data=history, x=\"beer_abv\")"
   ]
  },
  {
   "cell_type": "code",
   "execution_count": 67,
   "metadata": {},
   "outputs": [],
   "source": [
    "history.loc[history[\"beer_abv\"] <= 4.5, \"beer_abv\"] = 0\n",
    "history.loc[(history[\"beer_abv\"] > 4.5) & (history[\"beer_abv\"] <= 5), \"beer_abv\"] = 1\n",
    "history.loc[(history[\"beer_abv\"] > 5) & (history[\"beer_abv\"] <= 5.5), \"beer_abv\"] = 2\n",
    "history.loc[(history[\"beer_abv\"] > 5.5) & (history[\"beer_abv\"] <= 6), \"beer_abv\"] = 3\n",
    "history.loc[(history[\"beer_abv\"] > 6) & (history[\"beer_abv\"] <= 7), \"beer_abv\"] = 4\n",
    "history.loc[(history[\"beer_abv\"] > 7) & (history[\"beer_abv\"] <= 8), \"beer_abv\"] = 5\n",
    "history.loc[history[\"beer_abv\"] > 8, \"beer_abv\"] = 6\n",
    "history[\"beer_abv\"] = history[\"beer_abv\"].astype(int)"
   ]
  },
  {
   "cell_type": "code",
   "execution_count": 68,
   "metadata": {},
   "outputs": [
    {
     "data": {
      "text/plain": [
       "<AxesSubplot:xlabel='beer_abv', ylabel='Count'>"
      ]
     },
     "execution_count": 68,
     "metadata": {},
     "output_type": "execute_result"
    },
    {
     "data": {
      "image/png": "[encoded data removed]",
      "text/plain": [
       "<Figure size 432x288 with 1 Axes>"
      ]
     },
     "metadata": {
      "needs_background": "light"
     },
     "output_type": "display_data"
    }
   ],
   "source": [
    "sns.histplot(data=history, x=\"beer_abv\")"
   ]
  },
  {
   "cell_type": "markdown",
   "metadata": {},
   "source": [
    "### feature: beer ibu"
   ]
  },
  {
   "cell_type": "code",
   "execution_count": 69,
   "metadata": {},
   "outputs": [
    {
     "data": {
      "text/plain": [
       "<AxesSubplot:xlabel='beer_ibu', ylabel='Count'>"
      ]
     },
     "execution_count": 69,
     "metadata": {},
     "output_type": "execute_result"
    },
    {
     "data": {
      "image/png": "[encoded data removed]",
      "text/plain": [
       "<Figure size 432x288 with 1 Axes>"
      ]
     },
     "metadata": {
      "needs_background": "light"
     },
     "output_type": "display_data"
    }
   ],
   "source": [
    "sns.histplot(data=history, x=\"beer_ibu\")"
   ]
  },
  {
   "cell_type": "code",
   "execution_count": 70,
   "metadata": {},
   "outputs": [],
   "source": [
    "history.loc[history[\"beer_ibu\"] == 0, \"beer_ibu\"] = 0\n",
    "history.loc[(history[\"beer_ibu\"] > 0) & (history[\"beer_ibu\"] <= 20), \"beer_ibu\"] = 1\n",
    "history.loc[(history[\"beer_ibu\"] > 20) & (history[\"beer_ibu\"] <= 30), \"beer_ibu\"] = 2\n",
    "history.loc[(history[\"beer_ibu\"] > 30) & (history[\"beer_ibu\"] <= 40), \"beer_ibu\"] = 3\n",
    "history.loc[(history[\"beer_ibu\"] > 40) & (history[\"beer_ibu\"] <= 60), \"beer_ibu\"] = 4\n",
    "history.loc[(history[\"beer_ibu\"] > 60) & (history[\"beer_ibu\"] <= 80), \"beer_ibu\"] = 5\n",
    "history.loc[history[\"beer_ibu\"] > 80, \"beer_ibu\"] = 6\n",
    "history[\"beer_ibu\"] = history[\"beer_ibu\"].astype(int)"
   ]
  },
  {
   "cell_type": "code",
   "execution_count": 71,
   "metadata": {},
   "outputs": [
    {
     "data": {
      "text/plain": [
       "<AxesSubplot:xlabel='beer_ibu', ylabel='Count'>"
      ]
     },
     "execution_count": 71,
     "metadata": {},
     "output_type": "execute_result"
    },
    {
     "data": {
      "image/png": "[encoded data removed]",
      "text/plain": [
       "<Figure size 432x288 with 1 Axes>"
      ]
     },
     "metadata": {
      "needs_background": "light"
     },
     "output_type": "display_data"
    }
   ],
   "source": [
    "sns.histplot(data=history, x=\"beer_ibu\")"
   ]
  },
  {
   "cell_type": "markdown",
   "metadata": {},
   "source": [
    "### feature: brewery country"
   ]
  },
  {
   "cell_type": "code",
   "execution_count": 72,
   "metadata": {},
   "outputs": [
    {
     "data": {
      "text/plain": [
       "brewery_country                   \n",
       "Finland                               787\n",
       "United States                         280\n",
       "England                               207\n",
       "Scotland                              187\n",
       "Estonia                               111\n",
       "Sweden                                100\n",
       "Germany                                77\n",
       "Denmark                                70\n",
       "Belgium                                59\n",
       "Netherlands                            47\n",
       "Norway                                 42\n",
       "Spain                                  23\n",
       "Czech Republic                         22\n",
       "Ireland                                20\n",
       "France                                 14\n",
       "Aland Islands                          14\n",
       "Japan                                  12\n",
       "Poland                                 11\n",
       "Italy                                  10\n",
       "Mexico                                  9\n",
       "Iceland                                 8\n",
       "Canada                                  8\n",
       "Russia                                  8\n",
       "Austria                                 6\n",
       "Latvia                                  4\n",
       "New Zealand                             4\n",
       "Lithuania                               3\n",
       "South Africa                            3\n",
       "Brazil                                  2\n",
       "Hungary                                 2\n",
       "Cuba                                    1\n",
       "Turkey                                  1\n",
       "Chile                                   1\n",
       "China / People's Republic of China      1\n",
       "Croatia                                 1\n",
       "Singapore                               1\n",
       "South Korea                             1\n",
       "Dominican Republic                      1\n",
       "Portugal                                1\n",
       "Philippines                             1\n",
       "India                                   1\n",
       "Vietnam                                 1\n",
       "Jamaica                                 1\n",
       "Wales                                   1\n",
       "dtype: int64"
      ]
     },
     "execution_count": 72,
     "metadata": {},
     "output_type": "execute_result"
    }
   ],
   "source": [
    "history[[\"brewery_country\"]].value_counts()"
   ]
  },
  {
   "cell_type": "code",
   "execution_count": 73,
   "metadata": {},
   "outputs": [],
   "source": [
    "history.loc[history.brewery_country.str.contains(\"united states|canada\", flags=re.IGNORECASE), \"brewery_country\"] = \"0\"\n",
    "history.loc[history.brewery_country.str.contains(\"scotland|united kingdom|wales\", flags=re.IGNORECASE), \"brewery_country\"] = \"1\"\n",
    "history.loc[history.brewery_country.str.contains(\"germany|austria\", flags=re.IGNORECASE), \"brewery_country\"] = \"2\"\n",
    "history.loc[history.brewery_country.str.contains(\"finland|sweden|norway|denmark|iceland\", flags=re.IGNORECASE), \"brewery_country\"] = \"3\"\n",
    "history.loc[history.brewery_country.str.contains(\"belgium|france|netherlands\", flags=re.IGNORECASE), \"brewery_country\"] = \"4\"\n",
    "history.loc[history.brewery_country.str.contains(\"czech republic|slovakia\", flags=re.IGNORECASE), \"brewery_country\"] = \"5\"\n",
    "history.loc[~history.brewery_country.str.contains(\"0|1|2|3|4|5\"), \"brewery_country\"] = \"6\"\n",
    "history[\"brewery_country\"] = history[\"brewery_country\"].astype(int)"
   ]
  },
  {
   "cell_type": "code",
   "execution_count": 74,
   "metadata": {},
   "outputs": [
    {
     "data": {
      "text/plain": [
       "<AxesSubplot:xlabel='brewery_country', ylabel='Count'>"
      ]
     },
     "execution_count": 74,
     "metadata": {},
     "output_type": "execute_result"
    },
    {
     "data": {
      "image/png": "[encoded data removed]",
      "text/plain": [
       "<Figure size 432x288 with 1 Axes>"
      ]
     },
     "metadata": {
      "needs_background": "light"
     },
     "output_type": "display_data"
    }
   ],
   "source": [
    "sns.histplot(data=history, x=\"brewery_country\")"
   ]
  },
  {
   "cell_type": "markdown",
   "metadata": {},
   "source": [
    "### drop nulls"
   ]
  },
  {
   "cell_type": "code",
   "execution_count": 75,
   "metadata": {},
   "outputs": [],
   "source": [
    "history = history.dropna()"
   ]
  },
  {
   "cell_type": "markdown",
   "metadata": {},
   "source": [
    "### label: rating score\n",
    "\n",
    "This is what we want to predict. Take the mean of all personal ratings, and apply a label of \"like\" if above or equal to the mean, and \"not like\" if below."
   ]
  },
  {
   "cell_type": "code",
   "execution_count": 76,
   "metadata": {},
   "outputs": [],
   "source": [
    "m = history[\"rating_score\"].mean(axis=0)"
   ]
  },
  {
   "cell_type": "code",
   "execution_count": 77,
   "metadata": {},
   "outputs": [
    {
     "data": {
      "text/plain": [
       "3.399930426716141"
      ]
     },
     "execution_count": 77,
     "metadata": {},
     "output_type": "execute_result"
    }
   ],
   "source": [
    "m"
   ]
  },
  {
   "cell_type": "code",
   "execution_count": 78,
   "metadata": {},
   "outputs": [],
   "source": [
    "history.loc[history[\"rating_score\"] < m, \"rating_score\"] = 0\n",
    "history.loc[history[\"rating_score\"] >= m, \"rating_score\"] = 1\n",
    "history[\"rating_score\"] = history[\"rating_score\"].astype(int)"
   ]
  },
  {
   "cell_type": "code",
   "execution_count": 79,
   "metadata": {},
   "outputs": [
    {
     "data": {
      "text/plain": [
       "<AxesSubplot:xlabel='rating_score', ylabel='Count'>"
      ]
     },
     "execution_count": 79,
     "metadata": {},
     "output_type": "execute_result"
    },
    {
     "data": {
      "image/png": "[encoded data removed]",
      "text/plain": [
       "<Figure size 432x288 with 1 Axes>"
      ]
     },
     "metadata": {
      "needs_background": "light"
     },
     "output_type": "display_data"
    }
   ],
   "source": [
    "sns.histplot(data=history, x=\"rating_score\")"
   ]
  },
  {
   "cell_type": "markdown",
   "metadata": {},
   "source": [
    "### train/test split\n",
    "\n",
    "Split the entire history into a traing and testing data set."
   ]
  },
  {
   "cell_type": "code",
   "execution_count": 81,
   "metadata": {},
   "outputs": [],
   "source": [
    "x = history.drop(\"rating_score\", axis=1)\n",
    "y = history[[\"rating_score\"]]\n",
    "x_train, x_test, y_train, y_test = train_test_split(x, y, test_size=0.2, random_state=42)"
   ]
  },
  {
   "cell_type": "markdown",
   "metadata": {},
   "source": [
    "### random forest"
   ]
  },
  {
   "cell_type": "code",
   "execution_count": 82,
   "metadata": {},
   "outputs": [
    {
     "name": "stderr",
     "output_type": "stream",
     "text": [
      "<ipython-input-82-ff409dd62e95>:2: DataConversionWarning: A column-vector y was passed when a 1d array was expected. Please change the shape of y to (n_samples,), for example using ravel().\n",
      "  random_forest.fit(x_train, y_train)\n"
     ]
    },
    {
     "data": {
      "text/plain": [
       "RandomForestClassifier()"
      ]
     },
     "execution_count": 82,
     "metadata": {},
     "output_type": "execute_result"
    }
   ],
   "source": [
    "random_forest = RandomForestClassifier(n_estimators=100)\n",
    "random_forest.fit(x_train, y_train)"
   ]
  },
  {
   "cell_type": "code",
   "execution_count": 83,
   "metadata": {},
   "outputs": [],
   "source": [
    "y_pred = random_forest.predict(x_test)"
   ]
  },
  {
   "cell_type": "code",
   "execution_count": 84,
   "metadata": {},
   "outputs": [],
   "source": [
    "random_forest.score(x_train, y_train)\n",
    "acc_random_forest = round(random_forest.score(x_train, y_train) * 100, 2)"
   ]
  },
  {
   "cell_type": "code",
   "execution_count": 85,
   "metadata": {},
   "outputs": [
    {
     "data": {
      "text/plain": [
       "98.96"
      ]
     },
     "execution_count": 85,
     "metadata": {},
     "output_type": "execute_result"
    }
   ],
   "source": [
    "acc_random_forest"
   ]
  },
  {
   "cell_type": "markdown",
   "metadata": {},
   "source": [
    "### feature importance"
   ]
  },
  {
   "cell_type": "code",
   "execution_count": 86,
   "metadata": {},
   "outputs": [
    {
     "data": {
      "text/html": [
       "<div>\n",
       "<style scoped>\n",
       "    .dataframe tbody tr th:only-of-type {\n",
       "        vertical-align: middle;\n",
       "    }\n",
       "\n",
       "    .dataframe tbody tr th {\n",
       "        vertical-align: top;\n",
       "    }\n",
       "\n",
       "    .dataframe thead th {\n",
       "        text-align: right;\n",
       "    }\n",
       "</style>\n",
       "<table border=\"1\" class=\"dataframe\">\n",
       "  <thead>\n",
       "    <tr style=\"text-align: right;\">\n",
       "      <th></th>\n",
       "      <th>importance</th>\n",
       "    </tr>\n",
       "    <tr>\n",
       "      <th>feature</th>\n",
       "      <th></th>\n",
       "    </tr>\n",
       "  </thead>\n",
       "  <tbody>\n",
       "    <tr>\n",
       "      <th>global_rating_score</th>\n",
       "      <td>0.572</td>\n",
       "    </tr>\n",
       "    <tr>\n",
       "      <th>beer_type</th>\n",
       "      <td>0.146</td>\n",
       "    </tr>\n",
       "    <tr>\n",
       "      <th>beer_abv</th>\n",
       "      <td>0.125</td>\n",
       "    </tr>\n",
       "    <tr>\n",
       "      <th>beer_ibu</th>\n",
       "      <td>0.093</td>\n",
       "    </tr>\n",
       "    <tr>\n",
       "      <th>brewery_country</th>\n",
       "      <td>0.064</td>\n",
       "    </tr>\n",
       "  </tbody>\n",
       "</table>\n",
       "</div>"
      ],
      "text/plain": [
       "                     importance\n",
       "feature                        \n",
       "global_rating_score       0.572\n",
       "beer_type                 0.146\n",
       "beer_abv                  0.125\n",
       "beer_ibu                  0.093\n",
       "brewery_country           0.064"
      ]
     },
     "execution_count": 86,
     "metadata": {},
     "output_type": "execute_result"
    }
   ],
   "source": [
    "importances = pd.DataFrame({\"feature\": x_train.columns, \"importance\": np.round(random_forest.feature_importances_, 3)})\n",
    "importances = importances.sort_values(\"importance\", ascending=False).set_index(\"feature\")\n",
    "importances.head(15)"
   ]
  },
  {
   "cell_type": "code",
   "execution_count": 87,
   "metadata": {},
   "outputs": [
    {
     "data": {
      "text/plain": [
       "<AxesSubplot:xlabel='feature'>"
      ]
     },
     "execution_count": 87,
     "metadata": {},
     "output_type": "execute_result"
    },
    {
     "data": {
      "image/png": "[encoded data removed]",
      "text/plain": [
       "<Figure size 432x288 with 1 Axes>"
      ]
     },
     "metadata": {
      "needs_background": "light"
     },
     "output_type": "display_data"
    }
   ],
   "source": [
    "importances.plot.bar()"
   ]
  },
  {
   "cell_type": "markdown",
   "metadata": {},
   "source": [
    "### precision and recall"
   ]
  },
  {
   "cell_type": "code",
   "execution_count": 88,
   "metadata": {},
   "outputs": [
    {
     "name": "stderr",
     "output_type": "stream",
     "text": [
      "/opt/anaconda3/lib/python3.8/site-packages/sklearn/model_selection/_validation.py:862: DataConversionWarning: A column-vector y was passed when a 1d array was expected. Please change the shape of y to (n_samples,), for example using ravel().\n",
      "  estimator.fit(X_train, y_train, **fit_params)\n",
      "/opt/anaconda3/lib/python3.8/site-packages/sklearn/model_selection/_validation.py:862: DataConversionWarning: A column-vector y was passed when a 1d array was expected. Please change the shape of y to (n_samples,), for example using ravel().\n",
      "  estimator.fit(X_train, y_train, **fit_params)\n",
      "/opt/anaconda3/lib/python3.8/site-packages/sklearn/model_selection/_validation.py:862: DataConversionWarning: A column-vector y was passed when a 1d array was expected. Please change the shape of y to (n_samples,), for example using ravel().\n",
      "  estimator.fit(X_train, y_train, **fit_params)\n"
     ]
    },
    {
     "data": {
      "text/plain": [
       "array([[584, 111],\n",
       "       [102, 927]])"
      ]
     },
     "execution_count": 88,
     "metadata": {},
     "output_type": "execute_result"
    }
   ],
   "source": [
    "predictions = cross_val_predict(random_forest, x_train, y_train, cv=3)\n",
    "confusion_matrix(y_train, predictions)"
   ]
  },
  {
   "cell_type": "code",
   "execution_count": 89,
   "metadata": {},
   "outputs": [
    {
     "name": "stdout",
     "output_type": "stream",
     "text": [
      "Precision: 0.8930635838150289\n",
      "Recall: 0.9008746355685131\n"
     ]
    }
   ],
   "source": [
    "print(\"Precision:\", precision_score(y_train, predictions))\n",
    "print(\"Recall:\",recall_score(y_train, predictions))"
   ]
  },
  {
   "cell_type": "markdown",
   "metadata": {},
   "source": [
    "### f1-score"
   ]
  },
  {
   "cell_type": "code",
   "execution_count": 90,
   "metadata": {},
   "outputs": [
    {
     "data": {
      "text/plain": [
       "0.8969521044992743"
      ]
     },
     "execution_count": 90,
     "metadata": {},
     "output_type": "execute_result"
    }
   ],
   "source": [
    "f1_score(y_train, predictions)"
   ]
  },
  {
   "cell_type": "markdown",
   "metadata": {},
   "source": [
    "### persist model"
   ]
  },
  {
   "cell_type": "code",
   "execution_count": 91,
   "metadata": {},
   "outputs": [
    {
     "data": {
      "text/plain": [
       "['random_forest.joblib']"
      ]
     },
     "execution_count": 91,
     "metadata": {},
     "output_type": "execute_result"
    }
   ],
   "source": [
    "dump(random_forest, \"random_forest.joblib\")"
   ]
  },
  {
   "cell_type": "code",
   "execution_count": null,
   "metadata": {},
   "outputs": [],
   "source": []
  }
 ],
 "metadata": {
  "kernelspec": {
   "display_name": "Python 3",
   "language": "python",
   "name": "python3"
  },
  "language_info": {
   "codemirror_mode": {
    "name": "ipython",
    "version": 3
   },
   "file_extension": ".py",
   "mimetype": "text/x-python",
   "name": "python",
   "nbconvert_exporter": "python",
   "pygments_lexer": "ipython3",
   "version": "3.8.5"
  }
 },
 "nbformat": 4,
 "nbformat_minor": 4
}
